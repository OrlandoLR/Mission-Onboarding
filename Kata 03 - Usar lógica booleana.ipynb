{
 "cells": [
  {
   "cell_type": "markdown",
   "metadata": {},
   "source": [
    "## Ejercicio 1: \n",
    "Un asteroide se dirige a la tierra. Si la velocidad de este es mayor a 25 km/s, entonces advierte a los ciudadanos. El asteroide viaja a 49km/s"
   ]
  },
  {
   "cell_type": "code",
   "execution_count": 1,
   "metadata": {},
   "outputs": [
    {
     "name": "stdout",
     "output_type": "stream",
     "text": [
      "Extinción inminente\n"
     ]
    }
   ],
   "source": [
    "Asteroid_Speed = 49\n",
    "\n",
    "if Asteroid_Speed > 25:\n",
    "    print(\"Extinción inminente\")\n",
    "else:\n",
    "    print(\"Asteroide pierde esteroides\")"
   ]
  },
  {
   "cell_type": "markdown",
   "metadata": {},
   "source": [
    "# Ejercicio 2:\n",
    "A veces cuando un asteroide sobrepasa los 20km/s crea un haz de luz. Escribe condiciones que consideren esta posibilidad, así como que no se cumpla. El asteroide viaja a 19km/s"
   ]
  },
  {
   "cell_type": "code",
   "execution_count": 4,
   "metadata": {},
   "outputs": [
    {
     "name": "stdout",
     "output_type": "stream",
     "text": [
      "Solo es una pájaro\n"
     ]
    }
   ],
   "source": [
    "Asteroid_Speed = 19\n",
    "\n",
    "if Asteroid_Speed > 20:\n",
    "    print(\"¿Es un avión?\")\n",
    "elif Asteroid_Speed == 20:\n",
    "    print(\"¿Es un misíl?\")\n",
    "else:\n",
    "    print(\"Solo es una pájaro\")"
   ]
  },
  {
   "cell_type": "markdown",
   "metadata": {},
   "source": [
    "# Ejercicio 3:\n",
    "Considerar los hechos anteriores y añadir las consecuencias que tendría el impacto de un asteroide de X tamaño. Utilizar if, elif, else, or y and."
   ]
  },
  {
   "cell_type": "code",
   "execution_count": 6,
   "metadata": {},
   "outputs": [
    {
     "name": "stdout",
     "output_type": "stream",
     "text": [
      "El fin de lo que conocemos se acerca, pero al menos podrán ver una hermosa luz en el cielo.\n"
     ]
    }
   ],
   "source": [
    "Asteroid_Size = 500\n",
    "Asteroid_Speed = 12000\n",
    "\n",
    "if Asteroid_Size > 25 and Asteroid_Speed > 25:\n",
    "    print(\"El fin de lo que conocemos se acerca, pero al menos podrán ver una hermosa luz en el cielo.\")\n",
    "elif Asteroid_Size <= 25 and Asteroid_Speed <20:\n",
    "    print(\"*Se desintegra sin dejar rastro*\") \n",
    "elif Asteroid_Speed >= 20 and Asteroid_Speed <= 25:\n",
    "    print(\"Es veloz, pero no tanto como McQueen\")\n",
    "else:\n",
    "    print(\"Esta noche lloverán destellos de asteroide, nada mortal, pero resulta una analogía a los fuegos artificiales, los cuales se lanzarían por sobrevivir\")"
   ]
  }
 ],
 "metadata": {
  "interpreter": {
   "hash": "9b96c6e04520d366b7723667ddb40b1328e42a3dc81852cbf564100e83d39489"
  },
  "kernelspec": {
   "display_name": "Python 3.10.2 64-bit",
   "language": "python",
   "name": "python3"
  },
  "language_info": {
   "codemirror_mode": {
    "name": "ipython",
    "version": 3
   },
   "file_extension": ".py",
   "mimetype": "text/x-python",
   "name": "python",
   "nbconvert_exporter": "python",
   "pygments_lexer": "ipython3",
   "version": "3.10.2"
  },
  "orig_nbformat": 4
 },
 "nbformat": 4,
 "nbformat_minor": 2
}
